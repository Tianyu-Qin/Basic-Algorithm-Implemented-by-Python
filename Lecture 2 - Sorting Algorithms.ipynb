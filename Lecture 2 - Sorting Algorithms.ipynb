{
 "cells": [
  {
   "cell_type": "markdown",
   "metadata": {},
   "source": [
    "## Sorting Algorithms"
   ]
  },
  {
   "cell_type": "code",
   "execution_count": 1,
   "metadata": {},
   "outputs": [],
   "source": [
    "import numpy as np\n",
    "import time"
   ]
  },
  {
   "cell_type": "markdown",
   "metadata": {},
   "source": [
    "### Insertion sort"
   ]
  },
  {
   "cell_type": "code",
   "execution_count": 2,
   "metadata": {},
   "outputs": [],
   "source": [
    "def insertionSort(array):\n",
    "    '''\n",
    "    插入排序是一种原地、稳定的排序算法，元素移动次数等于逆序度，时间复杂度最好为O(n)，最差为O(n^2)，空间复杂度为常数\n",
    "    '''\n",
    "    for i in range(1, len(array)):\n",
    "        key = array[i]\n",
    "        j = i - 1\n",
    "        while j >= 0 and array[j] > key:\n",
    "            array[j+1] = array[j]\n",
    "            j = j - 1\n",
    "        array[j+1] = key\n",
    "        \n",
    "    return array"
   ]
  },
  {
   "cell_type": "code",
   "execution_count": 3,
   "metadata": {},
   "outputs": [
    {
     "name": "stdout",
     "output_type": "stream",
     "text": [
      "The algorithm is right\n"
     ]
    }
   ],
   "source": [
    "## 检查算法正确性\n",
    "Correctness = True\n",
    "for i in range(100):\n",
    "    array = np.random.randint(low=0, high=100, size=100)\n",
    "    truth = sorted(array)\n",
    "    result = insertionSort(array)\n",
    "    correct = all(result == truth)\n",
    "    if not correct:\n",
    "        print('The algorithm is wrong')\n",
    "        Correctness = False\n",
    "if Correctness:\n",
    "    print('The algorithm is right')"
   ]
  },
  {
   "cell_type": "markdown",
   "metadata": {},
   "source": [
    "### Merge sort"
   ]
  },
  {
   "cell_type": "code",
   "execution_count": 4,
   "metadata": {},
   "outputs": [],
   "source": [
    "def mergeSort(array):\n",
    "    '''\n",
    "    归并排序是一种非原地、稳定的排序算法，所有时间复杂度均为O(nlogn)，空间复杂度为O(n)\n",
    "    '''\n",
    "    if len(array) == 1:\n",
    "        return array\n",
    "    mid = len(array) // 2\n",
    "    firstHalf = mergeSort(array[:mid])\n",
    "    secondHalf = mergeSort(array[mid:])\n",
    "    result = mergeCombine(firstHalf, secondHalf)\n",
    "    \n",
    "    return result\n",
    "\n",
    "def mergeCombine(a1, a2):\n",
    "    '''\n",
    "    归并排序的合并算法，将两个排好序的序列合并成一个序列，时间复杂度为O(m+n)，空间复杂度为O(m+n)，m、n分别为a1、a2的数组长度\n",
    "    '''\n",
    "    i, j = 0, 0\n",
    "    res = []\n",
    "    while i <= len(a1)-1 or j <= len(a2)-1:\n",
    "        if j >= len(a2):\n",
    "            res.append(a1[i])\n",
    "            i += 1\n",
    "        elif i >= len(a1):\n",
    "            res.append(a2[j])\n",
    "            j += 1\n",
    "        else:\n",
    "            if a1[i] <= a2[j]:\n",
    "                res.append(a1[i])\n",
    "                i += 1\n",
    "            else:\n",
    "                res.append(a2[j])\n",
    "                j += 1\n",
    "    \n",
    "    return res"
   ]
  },
  {
   "cell_type": "code",
   "execution_count": 5,
   "metadata": {},
   "outputs": [
    {
     "name": "stdout",
     "output_type": "stream",
     "text": [
      "The algorithm is right\n"
     ]
    }
   ],
   "source": [
    "## 检查算法正确性\n",
    "Correctness = True\n",
    "for i in range(100):\n",
    "    array = np.random.randint(low=0, high=100, size=100)\n",
    "    truth = sorted(array)\n",
    "    result = mergeSort(array)\n",
    "    correct = result == truth\n",
    "    if not correct:\n",
    "        print('The algorithm is wrong')\n",
    "        Correctness = False\n",
    "if Correctness:\n",
    "    print('The algorithm is right')"
   ]
  },
  {
   "cell_type": "markdown",
   "metadata": {},
   "source": [
    "### 时间开销对比"
   ]
  },
  {
   "cell_type": "code",
   "execution_count": 6,
   "metadata": {},
   "outputs": [],
   "source": [
    "def insertionSortRunningTime(n):\n",
    "    start = time.time()\n",
    "    for i in range(100):\n",
    "        array = np.random.randint(low=0, high=100, size=n)\n",
    "        result = insertionSort(array)\n",
    "    end = time.time()\n",
    "    return end-start\n",
    "\n",
    "def mergeSortRunningTime(n):\n",
    "    start = time.time()\n",
    "    for i in range(100):\n",
    "        array = np.random.randint(low=0, high=100, size=n)\n",
    "        result = mergeSort(array)\n",
    "    end = time.time()\n",
    "    return end-start"
   ]
  },
  {
   "cell_type": "code",
   "execution_count": 7,
   "metadata": {},
   "outputs": [
    {
     "name": "stdout",
     "output_type": "stream",
     "text": [
      "给大小为10的数组排序，插入排序时间为：0.0s，归并排序时间为：0.0156s\n",
      "给大小为50的数组排序，插入排序时间为：0.0156s，归并排序时间为：0.0156s\n",
      "给大小为100的数组排序，插入排序时间为：0.1003s，归并排序时间为：0.0534s\n",
      "给大小为500的数组排序，插入排序时间为：1.994s，归并排序时间为：0.2905s\n",
      "给大小为1000的数组排序，插入排序时间为：8.0958s，归并排序时间为：0.4709s\n"
     ]
    }
   ],
   "source": [
    "for n in [10, 50, 100, 500, 1000]:\n",
    "    print('给大小为{}的数组排序，插入排序时间为：{}s，归并排序时间为：{}s'.format(n, round(insertionSortRunningTime(n), 4), \\\n",
    "                                                                                    round(mergeSortRunningTime(n), 4)))"
   ]
  },
  {
   "cell_type": "code",
   "execution_count": null,
   "metadata": {},
   "outputs": [],
   "source": []
  },
  {
   "cell_type": "code",
   "execution_count": null,
   "metadata": {},
   "outputs": [],
   "source": []
  },
  {
   "cell_type": "code",
   "execution_count": null,
   "metadata": {},
   "outputs": [],
   "source": []
  },
  {
   "cell_type": "code",
   "execution_count": null,
   "metadata": {},
   "outputs": [],
   "source": []
  },
  {
   "cell_type": "code",
   "execution_count": null,
   "metadata": {},
   "outputs": [],
   "source": []
  },
  {
   "cell_type": "code",
   "execution_count": null,
   "metadata": {},
   "outputs": [],
   "source": []
  },
  {
   "cell_type": "code",
   "execution_count": null,
   "metadata": {},
   "outputs": [],
   "source": []
  }
 ],
 "metadata": {
  "kernelspec": {
   "display_name": "Python 3",
   "language": "python",
   "name": "python3"
  },
  "language_info": {
   "codemirror_mode": {
    "name": "ipython",
    "version": 3
   },
   "file_extension": ".py",
   "mimetype": "text/x-python",
   "name": "python",
   "nbconvert_exporter": "python",
   "pygments_lexer": "ipython3",
   "version": "3.7.0"
  }
 },
 "nbformat": 4,
 "nbformat_minor": 2
}
